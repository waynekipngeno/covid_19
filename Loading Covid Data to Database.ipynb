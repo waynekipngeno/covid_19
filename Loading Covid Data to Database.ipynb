{
 "cells": [
  {
   "cell_type": "markdown",
   "id": "fe466d96",
   "metadata": {},
   "source": [
    "# Project: ASSESSING THE SPREAD AND IMPACT OF COVID-19\n",
    "## Owner: WHO\n",
    "### Task: Load Cleaned covid data to database\n",
    "#### Date: 2021-10-21\n",
    "\n",
    "Our objective in this notebook is to prepare a database and tables to store covid-19 data. We shall then push the cleaned data to the database."
   ]
  },
  {
   "cell_type": "code",
   "execution_count": 1,
   "id": "a9ade2ae",
   "metadata": {},
   "outputs": [],
   "source": [
    "import pandas as pd\n",
    "import numpy as np\n",
    "import mysql.connector as mysql\n",
    "from mysql.connector import errorcode\n",
    "from __future__ import print_function"
   ]
  },
  {
   "cell_type": "code",
   "execution_count": 2,
   "id": "f12aa1e1",
   "metadata": {},
   "outputs": [],
   "source": [
    "# create database name\n",
    "\n",
    "DB_NAME = 'WHO_covid_19'"
   ]
  },
  {
   "cell_type": "code",
   "execution_count": 3,
   "id": "7ed71463",
   "metadata": {},
   "outputs": [],
   "source": [
    "# Create tables\n",
    "\n",
    "covid_data_table = '''\n",
    "                    CREATE TABLE covid_19 (\n",
    "                    entry_id INT NOT NULL,\n",
    "                    iso_code VARCHAR(10) NOT NULL,\n",
    "                    continent VARCHAR(30) NOT NULL,\n",
    "                    location VARCHAR(40) NOT NULL,\n",
    "                    date_ DATE NOT NULL,\n",
    "                    total_cases INT NOT NULL, \n",
    "                    new_cases INT NOT NULL, \n",
    "                    total_deaths INT NOT NULL,\n",
    "                    new_deaths INT NOT NULL,\n",
    "                    population INT NOT NULL,\n",
    "                    median_age FLOAT NOT NULL, \n",
    "                    aged_65_older FLOAT NOT NULL,\n",
    "                    aged_70_older FLOAT NOT NULL,\n",
    "                    gdp_per_capita FLOAT NOT NULL, \n",
    "                    life_expectancy FLOAT NOT NULL,\n",
    "                    human_development_index FLOAT NOT NULL,\n",
    "                    PRIMARY KEY (entry_id)\n",
    "                    )ENGINE=InnoDB\n",
    "                    \n",
    "                    '''"
   ]
  },
  {
   "cell_type": "code",
   "execution_count": 4,
   "id": "f8ebfed0",
   "metadata": {},
   "outputs": [],
   "source": [
    "# establish connection with our server\n",
    "\n",
    "config = {\n",
    "    'user': 'korir',\n",
    "    'password': 'Wayne1966!',\n",
    "    'host': 'localhost',\n",
    "    'raise_on_warnings': True\n",
    "}\n",
    "\n",
    "conn = mysql.connect(**config)"
   ]
  },
  {
   "cell_type": "code",
   "execution_count": 5,
   "id": "cb705c3d",
   "metadata": {},
   "outputs": [],
   "source": [
    "# creating cursor object to allow interaction with server\n",
    "\n",
    "cursor = conn.cursor()"
   ]
  },
  {
   "cell_type": "code",
   "execution_count": 6,
   "id": "501bc1cc",
   "metadata": {},
   "outputs": [],
   "source": [
    "# function for creating databases\n",
    "\n",
    "def create_database(cursor_object, db_name):\n",
    "    try:\n",
    "        cursor.execute(\"CREATE DATABASE {} CHARACTER SET 'UTF8MB4'\".format(db_name))\n",
    "        print(\"Database {} created successfully.\".format(db_name))\n",
    "    except mysql.Error as err:\n",
    "        print(\"Failed creating database: {}\".format(db_name))\n",
    "        print(err.msg)\n",
    "        exit(1)\n"
   ]
  },
  {
   "cell_type": "code",
   "execution_count": 7,
   "id": "b38fa5ff",
   "metadata": {},
   "outputs": [
    {
     "name": "stdout",
     "output_type": "stream",
     "text": [
      "Database WHO_covid_19 does not exist\n",
      "Database WHO_covid_19 created successfully.\n"
     ]
    }
   ],
   "source": [
    "# checking is database already exists and creating one if it doesn't\n",
    "\n",
    "try:\n",
    "    cursor.execute(\"USE {}\".format(DB_NAME))\n",
    "except mysql.Error as err:\n",
    "    if err.errno == errorcode.ER_BAD_DB_ERROR:\n",
    "        print(\"Database {} does not exist\".format(DB_NAME))\n",
    "        create_database(cursor, DB_NAME)\n",
    "        conn.database = DB_NAME\n",
    "    else:\n",
    "        print(err.msg)\n",
    "        exit(1)"
   ]
  },
  {
   "cell_type": "code",
   "execution_count": 8,
   "id": "b50dcac8",
   "metadata": {},
   "outputs": [
    {
     "name": "stdout",
     "output_type": "stream",
     "text": [
      "Table created successfully\n",
      "OK\n"
     ]
    }
   ],
   "source": [
    "# creating database table and populating it with our data\n",
    "\n",
    "try:\n",
    "    cursor.execute(covid_data_table)\n",
    "    print(\"Table created successfully\")\n",
    "except mysql.Error as err:\n",
    "    if err.errno == errorcode.ER_TABLE_EXISTS_ERROR:\n",
    "        print(\"Table already exists\")\n",
    "    else:\n",
    "        print(err.msg)\n",
    "else:\n",
    "    print(\"OK\")"
   ]
  },
  {
   "cell_type": "code",
   "execution_count": 9,
   "id": "2c13290a",
   "metadata": {},
   "outputs": [],
   "source": [
    "# Query to load data to database\n",
    "\n",
    "loading_query = '''\n",
    "                    LOAD DATA INFILE \"C:/ProgramData/MySQL/MySQL Server 8.0/Uploads/covid_data.csv\"\n",
    "                    INTO TABLE covid_19\n",
    "                    COLUMNS TERMINATED BY ','\n",
    "                    OPTIONALLY ENCLOSED BY '\"'\n",
    "                    ESCAPED BY '\"'\n",
    "                    LINES TERMINATED BY '\\r\\n'\n",
    "                    IGNORE 1 LINES;\n",
    "                    \n",
    "                   '''"
   ]
  },
  {
   "cell_type": "code",
   "execution_count": 10,
   "id": "1a5cf60b",
   "metadata": {},
   "outputs": [
    {
     "name": "stdout",
     "output_type": "stream",
     "text": [
      "Success\n"
     ]
    }
   ],
   "source": [
    "# pushing data to database\n",
    "\n",
    "try:\n",
    "    cursor.execute(loading_query)\n",
    "    print(\"Success\")\n",
    "except mysql.Error as err:\n",
    "    print(err.msg)"
   ]
  },
  {
   "cell_type": "code",
   "execution_count": 13,
   "id": "80c64b32",
   "metadata": {},
   "outputs": [],
   "source": [
    "# committing changes to database \n",
    "conn.commit()"
   ]
  },
  {
   "cell_type": "code",
   "execution_count": 14,
   "id": "7c4ef32c",
   "metadata": {},
   "outputs": [
    {
     "data": {
      "text/plain": [
       "True"
      ]
     },
     "execution_count": 14,
     "metadata": {},
     "output_type": "execute_result"
    }
   ],
   "source": [
    "# releasing database resources\n",
    "conn.close()\n",
    "cursor.close()"
   ]
  }
 ],
 "metadata": {
  "kernelspec": {
   "display_name": "Python 3 (ipykernel)",
   "language": "python",
   "name": "python3"
  },
  "language_info": {
   "codemirror_mode": {
    "name": "ipython",
    "version": 3
   },
   "file_extension": ".py",
   "mimetype": "text/x-python",
   "name": "python",
   "nbconvert_exporter": "python",
   "pygments_lexer": "ipython3",
   "version": "3.9.7"
  }
 },
 "nbformat": 4,
 "nbformat_minor": 5
}
